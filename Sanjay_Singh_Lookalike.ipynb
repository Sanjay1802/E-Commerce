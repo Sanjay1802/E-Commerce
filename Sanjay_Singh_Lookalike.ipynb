{
 "cells": [
  {
   "cell_type": "code",
   "execution_count": 1,
   "id": "6ba5693b-93b3-4099-bb53-e903b4785af8",
   "metadata": {},
   "outputs": [
    {
     "name": "stdout",
     "output_type": "stream",
     "text": [
      "Lookalike recommendations saved to 'Lookalike.csv'. Here are the first few rows:\n",
      "  CustomerID SimilarCustomerID  SimilarityScore\n",
      "0      C0001             C0086         0.996560\n",
      "1      C0001             C0189         0.994776\n",
      "2      C0001             C0055         0.993965\n",
      "3      C0002             C0199         0.998247\n",
      "4      C0002             C0010         0.997953\n"
     ]
    }
   ],
   "source": [
    "#Task 2: Lookalike Model\n",
    "\n",
    "import pandas as pd\n",
    "from sklearn.metrics.pairwise import cosine_similarity\n",
    "from sklearn.preprocessing import StandardScaler\n",
    "\n",
    "# Load datasets\n",
    "customers_url = 'https://drive.google.com/uc?id=1bu_--mo79VdUG9oin4ybfFGRUSXAe-WE'\n",
    "products_url = 'https://drive.google.com/uc?id=1IKuDizVapw-hyktwfpoAoaGtHtTNHfd0'\n",
    "transactions_url = 'https://drive.google.com/uc?id=1saEqdbBB-vuk2hxoAf4TzDEsykdKlzbF'\n",
    "\n",
    "customers = pd.read_csv(customers_url)\n",
    "products = pd.read_csv(products_url)\n",
    "transactions = pd.read_csv(transactions_url)\n",
    "\n",
    "# Merge datasets\n",
    "transactions['TransactionDate'] = pd.to_datetime(transactions['TransactionDate'])\n",
    "customers['SignupDate'] = pd.to_datetime(customers['SignupDate'])\n",
    "merged_data = transactions.merge(customers, on='CustomerID').merge(products, on='ProductID')\n",
    "\n",
    "# Feature Engineering\n",
    "customer_features = merged_data.groupby('CustomerID').agg(\n",
    "    total_spending=('TotalValue', 'sum'),\n",
    "    num_transactions=('TransactionID', 'count'),\n",
    "    avg_transaction_value=('TotalValue', 'mean'),\n",
    "    num_categories=('Category', 'nunique')\n",
    ").reset_index()\n",
    "\n",
    "# Normalize features for similarity calculation\n",
    "scaler = StandardScaler()\n",
    "normalized_features = scaler.fit_transform(customer_features.iloc[:, 1:])\n",
    "\n",
    "# Calculate Cosine Similarity\n",
    "similarity_matrix = cosine_similarity(normalized_features)\n",
    "similarity_df = pd.DataFrame(similarity_matrix, index=customer_features['CustomerID'], columns=customer_features['CustomerID'])\n",
    "\n",
    "# Generate Lookalike Recommendations\n",
    "lookalike_data = {}\n",
    "for customer_id in customer_features['CustomerID'][:20]:  # Customers C0001 - C0020\n",
    "    similar_customers = similarity_df[customer_id].nlargest(4).iloc[1:]  # Exclude the customer itself\n",
    "    lookalike_data[customer_id] = list(zip(similar_customers.index, similar_customers.values))\n",
    "\n",
    "# Create Lookalike.csv\n",
    "lookalike_output = []\n",
    "for customer_id, similar_list in lookalike_data.items():\n",
    "    for sim_customer, score in similar_list:\n",
    "        lookalike_output.append([customer_id, sim_customer, score])\n",
    "\n",
    "lookalike_df = pd.DataFrame(lookalike_output, columns=['CustomerID', 'SimilarCustomerID', 'SimilarityScore'])\n",
    "lookalike_df.to_csv('Lookalike.csv', index=False)\n",
    "\n",
    "# Display the result\n",
    "print(\"Lookalike recommendations saved to 'Lookalike.csv'. Here are the first few rows:\")\n",
    "print(lookalike_df.head())\n"
   ]
  },
  {
   "cell_type": "code",
   "execution_count": null,
   "id": "08f8f130-07ec-40cd-8c89-09a75b686885",
   "metadata": {},
   "outputs": [],
   "source": []
  }
 ],
 "metadata": {
  "kernelspec": {
   "display_name": "Python 3 (ipykernel)",
   "language": "python",
   "name": "python3"
  },
  "language_info": {
   "codemirror_mode": {
    "name": "ipython",
    "version": 3
   },
   "file_extension": ".py",
   "mimetype": "text/x-python",
   "name": "python",
   "nbconvert_exporter": "python",
   "pygments_lexer": "ipython3",
   "version": "3.12.7"
  }
 },
 "nbformat": 4,
 "nbformat_minor": 5
}
